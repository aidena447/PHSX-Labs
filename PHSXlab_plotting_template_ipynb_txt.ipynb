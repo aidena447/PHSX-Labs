{
  "nbformat": 4,
  "nbformat_minor": 0,
  "metadata": {
    "colab": {
      "provenance": [],
      "include_colab_link": true
    },
    "kernelspec": {
      "name": "python3",
      "display_name": "Python 3"
    },
    "language_info": {
      "name": "python"
    }
  },
  "cells": [
    {
      "cell_type": "markdown",
      "metadata": {
        "id": "view-in-github",
        "colab_type": "text"
      },
      "source": [
        "<a href=\"https://colab.research.google.com/github/aidena447/PHSX-Labs/blob/main/PHSXlab_plotting_template_ipynb_txt.ipynb\" target=\"_parent\"><img src=\"https://colab.research.google.com/assets/colab-badge.svg\" alt=\"Open In Colab\"/></a>"
      ]
    },
    {
      "cell_type": "code",
      "execution_count": 1,
      "metadata": {
        "colab": {
          "base_uri": "https://localhost:8080/",
          "height": 145
        },
        "id": "av6eeGDxsvfi",
        "outputId": "bfb7c929-ce9f-4fd5-ea34-4b037cb9d208"
      },
      "outputs": [
        {
          "output_type": "error",
          "ename": "SyntaxError",
          "evalue": "ignored",
          "traceback": [
            "\u001b[0;36m  File \u001b[0;32m\"<ipython-input-1-4aa189e2a6e6>\"\u001b[0;36m, line \u001b[0;32m15\u001b[0m\n\u001b[0;31m    height = np.array([0.396, 0.361, 0.324, 0.288, , 0.249]) #what are units?\u001b[0m\n\u001b[0m                                                   ^\u001b[0m\n\u001b[0;31mSyntaxError\u001b[0m\u001b[0;31m:\u001b[0m invalid syntax\n"
          ]
        }
      ],
      "source": [
        "#PHSX 216 & 218 plotting code\n",
        "#Brianna Beller\n",
        "#Updated September 2023\n",
        "\n",
        "#import packages and libraries, assign shortcut names\n",
        "%matplotlib inline\n",
        "from __future__ import division #only used if running python 2\n",
        "import numpy as np\n",
        "import matplotlib.pyplot as plt\n",
        "\n",
        "#-----------------------------------------------------------------------#\n",
        "#Data Section - Create Arrays for data. Perform necessary calculations.\n",
        "#CHANGE THE VARIABLE NAMES and numbers to match your data\n",
        "\n",
        "height = np.array([0.396, 0.361, 0.324, 0.288, 0.249]) #what are units?\n",
        "vfinal_squared = np.array([9.10746, 8.49019, 7.67562, 6.76, 5.82877]) #what are units?\n",
        "\n",
        "\n",
        "#-----------------------------------------------------------------------#\n",
        "#Create array for uncertainties in y variable\n",
        "#CHANGE THE VARIABLE NAME and numbers to match your data\n",
        "\n",
        "Delta_vfinal_squared = np.array([0.05859314417, 0.05433594596, 0.0487759495, 0.04261830593, 0.03644472468])\n",
        "\n",
        "\n",
        "#-----------------------------------------------------------------------#\n",
        "#--------------------------Plotting Code Below--------------------------#\n",
        "#-----------------------------------------------------------------------#\n",
        "\n",
        "#UPDATE THIS SECTION!!!\n",
        "\n",
        "#Re-assign variables as x, y, dy so that the remaining plotting code may remain generic\n",
        "x = height        #this should be the array you want to plot on the x axis\n",
        "y = vfinal_squared             #this should be the array you want to plot on the y axis\n",
        "dy = Delta_vfinal_squared        #this should be your error in y array\n",
        "\n",
        "\n",
        "#update each of these 4 strings\n",
        "plot_title= 'Acceleration due to Gravity'\n",
        "x_label= 'Height (m)'\n",
        "y_label= 'Final Velocity^2 (m^2/s^2)'\n",
        "slope_units= 'm/s^2'\n",
        "\n",
        "#update annotation placement with integer from 1 to 4, top R corner is 1 (counter-clockwise from there)\n",
        "annotation_placement=2\n",
        "\n",
        "\n",
        "#-----------------------------------------------------------------------#\n",
        "#Don't need to change anything in this section!\n",
        "\n",
        "#Find the intercept and slope, b and m, from Python's polynomial fitting function\n",
        "b,m=np.polynomial.polynomial.polyfit(x,y,1,w=dy)\n",
        "\n",
        "#Write the equation for the best fit line based on the slope and intercept\n",
        "fit = b+m*x\n",
        "\n",
        "#Calculate the error in slope and intercept\n",
        "\n",
        "def Delta(x, dy):\n",
        "    D = (sum(1/dy**2))*(sum(x**2/dy**2))-(sum(x/dy**2))**2\n",
        "    return D\n",
        "\n",
        "D=Delta(x, dy)\n",
        "\n",
        "dm = np.sqrt(1/D*sum(1/dy**2)) #error in slope\n",
        "db = np.sqrt(1/D*sum(x**2/dy**2)) #error in intercept\n",
        "\n",
        "#Calculate the \"goodness of fit\" using linear least squares fitting\n",
        "#(value close to number of plotted points indicates good fit)\n",
        "def LLSFD2(x,y,dy):\n",
        "    N = sum(((y-b-m*x)/dy)**2)\n",
        "    return N\n",
        "\n",
        "N = LLSFD2(x,y,dy)\n",
        "\n",
        "#assign annotation positions based on annotation_placement value\n",
        "if annotation_placement==2 or annotation_placement==3:\n",
        "    xpos=0.05\n",
        "elif annotation_placement==1 or annotation_placement==4:\n",
        "    xpos=0.75\n",
        "\n",
        "if annotation_placement==1 or annotation_placement==2:\n",
        "    ypos=[.9,.85,.8]\n",
        "elif annotation_placement==3 or annotation_placement==4:\n",
        "    ypos=[.2,.15,.1]\n",
        "\n",
        "#-----------------------------------------------------------------------#\n",
        "#Don't need to change anything in this section!\n",
        "\n",
        "#Plot data on graph. Plot error bars and place values for slope,\n",
        "#error in slope and goodness of fit on the plot using \"annotate\"\n",
        "\n",
        "plt.figure(figsize=(15,10))\n",
        "\n",
        "plt.plot(x, fit, color='green', linestyle='--')\n",
        "plt.scatter(x, y, color='blue', marker='o')\n",
        "\n",
        "plt.xlabel(x_label)\n",
        "plt.ylabel(y_label)\n",
        "plt.title(plot_title)\n",
        "\n",
        "plt.errorbar(x, y, yerr=dy, xerr=None, fmt=\"none\") #don't need to plot x error bars\n",
        "\n",
        "plt.annotate('Slope ({}) = {value:.{digits}E}'.format(slope_units,value=m, digits=2),\n",
        "             (xpos, ypos[0]), xycoords='axes fraction')\n",
        "\n",
        "plt.annotate('Error in Slope ({}) = {value:.{digits}E}'.format(slope_units,value=dm, digits=1),\n",
        "             (xpos, ypos[1]), xycoords='axes fraction')\n",
        "\n",
        "plt.annotate('Goodness of fit = {value:.{digits}E}'.format(value=N, digits=2),\n",
        "             (xpos, ypos[2]), xycoords='axes fraction')\n",
        "\n",
        "plt.show()"
      ]
    }
  ]
}